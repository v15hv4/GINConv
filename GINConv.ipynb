{
  "nbformat": 4,
  "nbformat_minor": 0,
  "metadata": {
    "colab": {
      "name": "TVA-GINConv.ipynb",
      "provenance": [],
      "collapsed_sections": []
    },
    "kernelspec": {
      "name": "python3",
      "display_name": "Python 3"
    },
    "language_info": {
      "name": "python"
    }
  },
  "cells": [
    {
      "cell_type": "code",
      "metadata": {
        "id": "6dsFgfM_993z"
      },
      "source": [
        "import torch\n",
        "import numpy as np\n",
        "import pandas as pd\n",
        "import torch.nn.functional as F\n",
        "\n",
        "from torch_geometric.loader import DataLoader\n",
        "from torch_geometric.data import Data, InMemoryDataset"
      ],
      "execution_count": 1,
      "outputs": []
    },
    {
      "cell_type": "code",
      "metadata": {
        "id": "iTmXgsWzHY8H"
      },
      "source": [
        "PROJECT_DIR = \"/home2/vishva.saravanan/projects/GINConv\""
      ],
      "execution_count": 2,
      "outputs": []
    },
    {
      "cell_type": "markdown",
      "metadata": {
        "id": "EGA0CVnbO8xv"
      },
      "source": [
        "# TASK 1: Data Preprocessing\n",
        "**input**: None  \n",
        "**output**: preprocessed dataframe\n",
        "\n",
        "- find and load dataset from file\n",
        "- preprocess it for easy extraction of features"
      ]
    },
    {
      "cell_type": "code",
      "metadata": {
        "colab": {
          "base_uri": "https://localhost:8080/",
          "height": 260
        },
        "id": "iKoooggCKUrj",
        "outputId": "a22ffda5-9406-4c5a-9c03-a13fcbe66b52"
      },
      "source": [
        "### DELETE THIS CELL ###\n",
        "\n",
        "\"\"\"\n",
        "sample dataset\n",
        "    link: https://www.kaggle.com/chadgostopp/recsys-challenge-2015\n",
        "    files: yoochoose-buys.dat, yoochoose-clicks.dat\n",
        "\"\"\"\n",
        "\n",
        "from sklearn.preprocessing import LabelEncoder\n",
        "\n",
        "# read a sample dataset from file\n",
        "df = pd.read_csv(f\"{PROJECT_DIR}/yoochoose-clicks.dat\", header=None)\n",
        "df.columns = [\"session_id\", \"timestamp\", \"item_id\", \"category\"]\n",
        "buy_df = pd.read_csv(f\"{PROJECT_DIR}/yoochoose-buys.dat\", header=None)\n",
        "buy_df.columns = [\"session_id\", \"timestamp\", \"item_id\", \"price\", \"quantity\"]\n",
        "\n",
        "# encode item ids as labels\n",
        "item_encoder = LabelEncoder()\n",
        "df[\"item_id\"] = item_encoder.fit_transform(df.item_id)\n",
        "\n",
        "# subsample data\n",
        "sampled_session_id = np.random.choice(df.session_id.unique(), 10000, replace=False)\n",
        "df = df.loc[df.session_id.isin(sampled_session_id)]\n",
        "\n",
        "# to determine the ground truth, we simply check if a session_id in `clicks` is also present in `buys`\n",
        "df[\"label\"] = df.session_id.isin(buy_df.session_id)\n",
        "\n",
        "# preview processed data\n",
        "df.head()\n",
        "\n",
        "### DELETE THIS CELL ###"
      ],
      "execution_count": 3,
      "outputs": [
        {
          "output_type": "stream",
          "name": "stderr",
          "text": [
            "/home2/vishva.saravanan/miniconda3/envs/gnn/lib/python3.9/site-packages/IPython/core/interactiveshell.py:3444: DtypeWarning: Columns (3) have mixed types.Specify dtype option on import or set low_memory=False.\n",
            "  exec(code_obj, self.user_global_ns, self.user_ns)\n"
          ]
        },
        {
          "output_type": "execute_result",
          "data": {
            "text/plain": [
              "      session_id                 timestamp  item_id category  label\n",
              "824          257  2014-04-06T14:59:22.715Z    39928        0  False\n",
              "825          257  2014-04-06T14:59:36.535Z    39932        0  False\n",
              "826          257  2014-04-06T15:01:10.731Z    39940        0  False\n",
              "4954        1448  2014-04-02T10:47:50.884Z    22965        0  False\n",
              "4955        1448  2014-04-02T10:48:22.612Z    45480        0  False"
            ],
            "text/html": [
              "<div>\n",
              "<style scoped>\n",
              "    .dataframe tbody tr th:only-of-type {\n",
              "        vertical-align: middle;\n",
              "    }\n",
              "\n",
              "    .dataframe tbody tr th {\n",
              "        vertical-align: top;\n",
              "    }\n",
              "\n",
              "    .dataframe thead th {\n",
              "        text-align: right;\n",
              "    }\n",
              "</style>\n",
              "<table border=\"1\" class=\"dataframe\">\n",
              "  <thead>\n",
              "    <tr style=\"text-align: right;\">\n",
              "      <th></th>\n",
              "      <th>session_id</th>\n",
              "      <th>timestamp</th>\n",
              "      <th>item_id</th>\n",
              "      <th>category</th>\n",
              "      <th>label</th>\n",
              "    </tr>\n",
              "  </thead>\n",
              "  <tbody>\n",
              "    <tr>\n",
              "      <th>824</th>\n",
              "      <td>257</td>\n",
              "      <td>2014-04-06T14:59:22.715Z</td>\n",
              "      <td>39928</td>\n",
              "      <td>0</td>\n",
              "      <td>False</td>\n",
              "    </tr>\n",
              "    <tr>\n",
              "      <th>825</th>\n",
              "      <td>257</td>\n",
              "      <td>2014-04-06T14:59:36.535Z</td>\n",
              "      <td>39932</td>\n",
              "      <td>0</td>\n",
              "      <td>False</td>\n",
              "    </tr>\n",
              "    <tr>\n",
              "      <th>826</th>\n",
              "      <td>257</td>\n",
              "      <td>2014-04-06T15:01:10.731Z</td>\n",
              "      <td>39940</td>\n",
              "      <td>0</td>\n",
              "      <td>False</td>\n",
              "    </tr>\n",
              "    <tr>\n",
              "      <th>4954</th>\n",
              "      <td>1448</td>\n",
              "      <td>2014-04-02T10:47:50.884Z</td>\n",
              "      <td>22965</td>\n",
              "      <td>0</td>\n",
              "      <td>False</td>\n",
              "    </tr>\n",
              "    <tr>\n",
              "      <th>4955</th>\n",
              "      <td>1448</td>\n",
              "      <td>2014-04-02T10:48:22.612Z</td>\n",
              "      <td>45480</td>\n",
              "      <td>0</td>\n",
              "      <td>False</td>\n",
              "    </tr>\n",
              "  </tbody>\n",
              "</table>\n",
              "</div>"
            ]
          },
          "metadata": {},
          "execution_count": 3
        }
      ]
    },
    {
      "cell_type": "markdown",
      "metadata": {
        "id": "lnAZ1DM1PFPF"
      },
      "source": [
        "# TASK 2: Dataset Construction\n",
        "**input**: dataframe  \n",
        "**output**: train_dataset, val_dataset, test_dataset\n",
        "\n",
        "- fit it to the required format (implement these methods: raw_file_names, processed_file_names, download, process)\n",
        "- split it into the required train, validation and testing sets"
      ]
    },
    {
      "cell_type": "code",
      "metadata": {
        "id": "_uSxDMDCK2y5"
      },
      "source": [
        "### DELETE THIS CELL ###\n",
        "\n",
        "from tqdm import tqdm\n",
        "\n",
        "class YooChooseBinaryDataset(InMemoryDataset):\n",
        "    def __init__(self, root, transform=None, pre_transform=None):\n",
        "        super(YooChooseBinaryDataset, self).__init__(root, transform, pre_transform)\n",
        "        self.data, self.slices = torch.load(self.processed_paths[0])\n",
        "\n",
        "    @property\n",
        "    def raw_file_names(self):\n",
        "        return []\n",
        "\n",
        "    @property\n",
        "    def processed_file_names(self):\n",
        "        return [f\"{PROJECT_DIR}/yoochoose_click_binary_1M_sess.dataset\"]\n",
        "\n",
        "    def download(self):\n",
        "        pass\n",
        "\n",
        "    def process(self):\n",
        "        data_list = []\n",
        "\n",
        "        # process by session_id\n",
        "        grouped = df.groupby('session_id')\n",
        "        for session_id, group in tqdm(grouped):     # tqdm is just a progress bar\n",
        "            sess_item_id = LabelEncoder().fit_transform(group.item_id)\n",
        "            group = group.reset_index(drop=True)    # TODO: what does this do?\n",
        "            group[\"sess_item_id\"] = sess_item_id\n",
        "            \n",
        "            # TODO: wtaf does this do\n",
        "            node_features = group.loc[group.session_id==session_id, [\"sess_item_id\", \"item_id\"]].sort_values(\"sess_item_id\").item_id.drop_duplicates().values\n",
        "\n",
        "            # converts into a column vector\n",
        "            node_features = torch.LongTensor(node_features).unsqueeze(1)\n",
        "\n",
        "            # TODO: wat dis\n",
        "            target_nodes = group.sess_item_id.values[1:]\n",
        "            source_nodes = group.sess_item_id.values[:-1]\n",
        "\n",
        "            edge_index = torch.tensor([source_nodes, target_nodes], dtype=torch.long)\n",
        "            x = node_features\n",
        "            y = torch.FloatTensor([group.label.values[0]])\n",
        "\n",
        "            data = Data(x=x, y=y, edge_index=edge_index)\n",
        "            data_list.append(data)\n",
        "        \n",
        "        data, slices = self.collate(data_list)\n",
        "        torch.save((data, slices), self.processed_paths[0])\n",
        "\n",
        "### DELETE THIS CELL ###"
      ],
      "execution_count": 4,
      "outputs": []
    },
    {
      "cell_type": "code",
      "metadata": {
        "id": "-LXfQf8jLJIx"
      },
      "source": [
        "### DELETE THIS CELL ###\n",
        "\n",
        "dataset = YooChooseBinaryDataset(root=PROJECT_DIR)\n",
        "train_dataset = dataset[:8000]\n",
        "val_dataset = dataset[8000:9000]\n",
        "test_dataset = dataset[9000:]\n",
        "\n",
        "### DELETE THIS CELL ###"
      ],
      "execution_count": 5,
      "outputs": []
    },
    {
      "cell_type": "markdown",
      "metadata": {
        "id": "-v8yy9PCPNLr"
      },
      "source": [
        "# TASK 3: Building the GINConv Layer\n",
        "**input**: None  \n",
        "**output**: GINConv class that can replace the built in torch_geometric.nn.GINConv\n",
        "\n",
        "- implement the GINConv layer as described in the paper\n",
        "- do NOT use the MessagePassing parent class (I guess)"
      ]
    },
    {
      "cell_type": "code",
      "metadata": {
        "id": "yx1IfSgrLzBB"
      },
      "source": [
        "### DELETE THIS CELL ###\n",
        "\n",
        "from torch_geometric.nn import MessagePassing\n",
        "from torch_geometric.utils import remove_self_loops, add_self_loops\n",
        "\n",
        "class GINConv(MessagePassing):\n",
        "    def __init__(self, in_channels, out_channels):\n",
        "        super(GINConv, self).__init__(aggr=\"max\")\n",
        "        self.lin = torch.nn.Linear(in_channels, out_channels)\n",
        "        self.act = torch.nn.ReLU()\n",
        "        self.update_lin = torch.nn.Linear(in_channels + out_channels, in_channels, bias=False)\n",
        "        self.update_act = torch.nn.ReLU()\n",
        "    \n",
        "    def forward(self, x, edge_index):\n",
        "        edge_index, _ = remove_self_loops(edge_index)\n",
        "        edge_index, _ = add_self_loops(edge_index, num_nodes=x.size(0))\n",
        "        \n",
        "        return self.propagate(edge_index, size=(x.size(0), x.size(0)), x=x)\n",
        "\n",
        "    def message(self, x_j):\n",
        "        x_j = self.lin(x_j)\n",
        "        x_j = self.act(x_j)\n",
        "\n",
        "        return x_j\n",
        "    \n",
        "    def update(self, aggr_out, x):\n",
        "        new_embedding = torch.cat([aggr_out, x], dim=1)\n",
        "        new_embedding = self.update_lin(new_embedding)\n",
        "        new_embedding = self.update_act(new_embedding)\n",
        "\n",
        "        return new_embedding\n",
        "\n",
        "### DELETE THIS CELL ###"
      ],
      "execution_count": 6,
      "outputs": []
    },
    {
      "cell_type": "markdown",
      "metadata": {
        "id": "3j1eghqmPUWG"
      },
      "source": [
        "# TASK 4: Building the Network\n",
        "**input**: GINConv, pooling and FC layers, torch functions (F)  \n",
        "**output**: Net class with the neural network structure (implement these methods: forward)\n",
        "\n",
        "- implement the network as described in the paper"
      ]
    },
    {
      "cell_type": "code",
      "metadata": {
        "id": "VXp6C_anMSi6"
      },
      "source": [
        "### DELETE THIS CELL ###\n",
        "\n",
        "from torch_geometric.nn import TopKPooling\n",
        "from torch_geometric.nn import global_mean_pool as gap, global_max_pool as gmp\n",
        "\n",
        "embedding_dim = 128     # TODO: what's this for? what is item embedding?\n",
        "\n",
        "class Net(torch.nn.Module):\n",
        "    def __init__(self):\n",
        "        super(Net, self).__init__()\n",
        "\n",
        "        self.conv1 = GINConv(embedding_dim, 128)\n",
        "        self.pool1 = TopKPooling(128, ratio=0.8)\n",
        "        self.conv2 = GINConv(128, 128)\n",
        "        self.pool2 = TopKPooling(128, ratio=0.8)\n",
        "        self.conv3 = GINConv(128, 128)\n",
        "        self.pool3 = TopKPooling(128, ratio=0.8)\n",
        "\n",
        "        self.item_embedding = torch.nn.Embedding(num_embeddings=df.item_id.max() + 1, embedding_dim=embedding_dim)\n",
        "\n",
        "        self.lin1 = torch.nn.Linear(256, 128)\n",
        "        self.act1 = torch.nn.ReLU()\n",
        "        self.lin2 = torch.nn.Linear(128, 64)\n",
        "        self.act2 = torch.nn.ReLU()\n",
        "        self.lin3 = torch.nn.Linear(64, 1)\n",
        "\n",
        "        self.bn1 = torch.nn.BatchNorm1d(128)    # TODO: what's Batch Norm 1d\n",
        "        self.bn2 = torch.nn.BatchNorm1d(64)\n",
        "\n",
        "    def forward(self, data):\n",
        "        x, edge_index, batch = data.x, data.edge_index, data.batch\n",
        "        x = self.item_embedding(x)\n",
        "        x = x.squeeze(1)    # removes all 1s from x\n",
        "\n",
        "        # 1st conv layer\n",
        "        x = F.relu(self.conv1(x, edge_index))   # TODO: why relu-ing the output?\n",
        "\n",
        "        # 1st pooling layer\n",
        "        x, edge_index, _, batch, _, _ = self.pool1(x, edge_index, None, batch)\n",
        "        x1 = torch.cat([gmp(x, batch), gap(x, batch)], dim=1)\n",
        "\n",
        "        # 2nd conv layer\n",
        "        x = F.relu(self.conv2(x, edge_index))\n",
        "\n",
        "        # 2nd pooling layer\n",
        "        x, edge_index, _, batch, _, _ = self.pool2(x, edge_index, None, batch)\n",
        "        x2 = torch.cat([gmp(x, batch), gap(x, batch)], dim=1)\n",
        "\n",
        "        # 3rd conv layer\n",
        "        x = F.relu(self.conv3(x, edge_index))\n",
        "\n",
        "        # 3rd pooling layer\n",
        "        x, edge_index, _, batch, _, _ = self.pool3(x, edge_index, None, batch)\n",
        "        x3 = torch.cat([gmp(x, batch), gap(x, batch)], dim=1)\n",
        "\n",
        "        x = x1 + x2 + x3\n",
        "\n",
        "        # first n-1 fully connected layers\n",
        "        x = self.lin1(x)\n",
        "        x = self.act1(x)\n",
        "        x = self.lin2(x)\n",
        "        x = self.act2(x)\n",
        "\n",
        "        # dropout regularization\n",
        "        x = F.dropout(x, p=0.5, training=self.training)\n",
        "\n",
        "        # final fully connected layer with sigmoid activation and no 1s\n",
        "        x = torch.sigmoid(self.lin3(x)).squeeze(1)\n",
        "        \n",
        "        return x\n",
        "\n",
        "### DELETE THIS CELL ###"
      ],
      "execution_count": 7,
      "outputs": []
    },
    {
      "cell_type": "markdown",
      "metadata": {
        "id": "GxpwDXxCPfkA"
      },
      "source": [
        "# TASK 5: Training & Validating the Network\n",
        "**input**: network model  \n",
        "**output**: trained network model\n",
        "\n",
        "- code to train, validate and test the model for variable number of epochs"
      ]
    },
    {
      "cell_type": "code",
      "metadata": {
        "id": "tg0m1QjWMwNy"
      },
      "source": [
        "# hyperparameters and training config\n",
        "device = torch.device(\"cpu\")   # torch.device(\"cuda\" if torch.cuda.is_available() else \"cpu\")\n",
        "lr = 0.005\n",
        "batch_size = 256\n",
        "num_epochs = 1"
      ],
      "execution_count": 15,
      "outputs": []
    },
    {
      "cell_type": "code",
      "metadata": {
        "id": "rJKCrnRrNbSU"
      },
      "source": [
        "# model configuration\n",
        "model = Net().to(device)\n",
        "optimizer = torch.optim.Adam(model.parameters(), lr=lr)\n",
        "loss_fn = torch.nn.BCELoss()\n",
        "\n",
        "# instantiate dataloaders\n",
        "train_loader = DataLoader(train_dataset, batch_size=batch_size)\n",
        "val_loader = DataLoader(val_dataset, batch_size=batch_size)\n",
        "test_loader = DataLoader(test_dataset, batch_size=batch_size)"
      ],
      "execution_count": 9,
      "outputs": []
    },
    {
      "cell_type": "code",
      "metadata": {
        "id": "p1-0dlhvM4_i"
      },
      "source": [
        "# function to train the model for 1 epoch\n",
        "def train(model, dataloader, optimizer, loss_fn):\n",
        "    model.train()\n",
        "\n",
        "    total_loss = 0\n",
        "    for data in dataloader:\n",
        "        data = data.to(device)\n",
        "        optimizer.zero_grad()\n",
        "        output = model(data)\n",
        "        label = data.y.to(device)\n",
        "        loss = loss_fn(output, label)\n",
        "        loss.backward()\n",
        "        total_loss += data.num_graphs * loss.item()\n",
        "        optimizer.step()\n",
        "\n",
        "    return total_loss / len(train_dataset)"
      ],
      "execution_count": 10,
      "outputs": []
    },
    {
      "cell_type": "code",
      "metadata": {
        "id": "5syJjRfSM_2P"
      },
      "source": [
        "from sklearn.metrics import roc_auc_score\n",
        "\n",
        "# function to validate performance of model on a dataset\n",
        "def evaluate(model, dataloader):\n",
        "    model.eval()\n",
        "\n",
        "    predictions = []\n",
        "    labels = []\n",
        "\n",
        "    with torch.no_grad():\n",
        "        for data in dataloader:\n",
        "            data = data.to(device)\n",
        "            pred = model(data).detach().cpu().numpy()\n",
        "            label = data.y.detach().cpu().numpy()\n",
        "            predictions.append(pred)\n",
        "            labels.append(label)\n",
        "\n",
        "    predictions = np.hstack(predictions)\n",
        "    labels = np.hstack(labels)\n",
        "\n",
        "    return roc_auc_score(labels, predictions)"
      ],
      "execution_count": 11,
      "outputs": []
    },
    {
      "cell_type": "code",
      "metadata": {
        "colab": {
          "base_uri": "https://localhost:8080/"
        },
        "id": "QAbWFvXwNDcN",
        "outputId": "1f098e57-1bc4-4776-b90f-01e95cf5fcee"
      },
      "source": [
        "# train the model\n",
        "for epoch in range(num_epochs):\n",
        "    loss = train(model, train_loader, optimizer, loss_fn)\n",
        "    train_auc = evaluate(model, train_loader)\n",
        "    val_auc = evaluate(model, val_loader)\n",
        "    test_auc = evaluate(model, test_loader)\n",
        "    print(f\"Epoch: {epoch+1:03d}, Loss: {loss:.5f}, Train Auc: {train_auc:.5f}, Val Auc: {val_auc:.5f}, Test Auc: {test_auc:.5f}\")"
      ],
      "execution_count": 12,
      "outputs": [
        {
          "output_type": "stream",
          "name": "stdout",
          "text": [
            "Epoch: 001, Loss: 0.28952, Train Auc: 0.66500, Val Auc: 0.36370, Test Auc: 0.39197\n"
          ]
        }
      ]
    }
  ]
}